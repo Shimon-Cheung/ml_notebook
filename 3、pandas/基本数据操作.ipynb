{
 "cells": [
  {
   "cell_type": "code",
   "execution_count": 4,
   "metadata": {
    "collapsed": true
   },
   "outputs": [
    {
     "data": {
      "text/plain": "             open   high  close    low     volume  price_change  p_change  \\\n2018-02-27  23.53  25.88  24.16  23.53   95578.03          0.63      2.68   \n2018-02-26  22.80  23.78  23.53  22.80   60985.11          0.69      3.02   \n2018-02-23  22.88  23.37  22.82  22.71   52914.01          0.54      2.42   \n2018-02-22  22.25  22.76  22.28  22.02   36105.01          0.36      1.64   \n2018-02-14  21.49  21.99  21.92  21.48   23331.04          0.44      2.05   \n...           ...    ...    ...    ...        ...           ...       ...   \n2015-03-06  13.17  14.48  14.28  13.13  179831.72          1.12      8.51   \n2015-03-05  12.88  13.45  13.16  12.87   93180.39          0.26      2.02   \n2015-03-04  12.80  12.92  12.90  12.61   67075.44          0.20      1.57   \n2015-03-03  12.52  13.06  12.70  12.52  139071.61          0.18      1.44   \n2015-03-02  12.25  12.67  12.52  12.20   96291.73          0.32      2.62   \n\n            turnover  \n2018-02-27      2.39  \n2018-02-26      1.53  \n2018-02-23      1.32  \n2018-02-22      0.90  \n2018-02-14      0.58  \n...              ...  \n2015-03-06      6.16  \n2015-03-05      3.19  \n2015-03-04      2.30  \n2015-03-03      4.76  \n2015-03-02      3.30  \n\n[643 rows x 8 columns]",
      "text/html": "<div>\n<style scoped>\n    .dataframe tbody tr th:only-of-type {\n        vertical-align: middle;\n    }\n\n    .dataframe tbody tr th {\n        vertical-align: top;\n    }\n\n    .dataframe thead th {\n        text-align: right;\n    }\n</style>\n<table border=\"1\" class=\"dataframe\">\n  <thead>\n    <tr style=\"text-align: right;\">\n      <th></th>\n      <th>open</th>\n      <th>high</th>\n      <th>close</th>\n      <th>low</th>\n      <th>volume</th>\n      <th>price_change</th>\n      <th>p_change</th>\n      <th>turnover</th>\n    </tr>\n  </thead>\n  <tbody>\n    <tr>\n      <th>2018-02-27</th>\n      <td>23.53</td>\n      <td>25.88</td>\n      <td>24.16</td>\n      <td>23.53</td>\n      <td>95578.03</td>\n      <td>0.63</td>\n      <td>2.68</td>\n      <td>2.39</td>\n    </tr>\n    <tr>\n      <th>2018-02-26</th>\n      <td>22.80</td>\n      <td>23.78</td>\n      <td>23.53</td>\n      <td>22.80</td>\n      <td>60985.11</td>\n      <td>0.69</td>\n      <td>3.02</td>\n      <td>1.53</td>\n    </tr>\n    <tr>\n      <th>2018-02-23</th>\n      <td>22.88</td>\n      <td>23.37</td>\n      <td>22.82</td>\n      <td>22.71</td>\n      <td>52914.01</td>\n      <td>0.54</td>\n      <td>2.42</td>\n      <td>1.32</td>\n    </tr>\n    <tr>\n      <th>2018-02-22</th>\n      <td>22.25</td>\n      <td>22.76</td>\n      <td>22.28</td>\n      <td>22.02</td>\n      <td>36105.01</td>\n      <td>0.36</td>\n      <td>1.64</td>\n      <td>0.90</td>\n    </tr>\n    <tr>\n      <th>2018-02-14</th>\n      <td>21.49</td>\n      <td>21.99</td>\n      <td>21.92</td>\n      <td>21.48</td>\n      <td>23331.04</td>\n      <td>0.44</td>\n      <td>2.05</td>\n      <td>0.58</td>\n    </tr>\n    <tr>\n      <th>...</th>\n      <td>...</td>\n      <td>...</td>\n      <td>...</td>\n      <td>...</td>\n      <td>...</td>\n      <td>...</td>\n      <td>...</td>\n      <td>...</td>\n    </tr>\n    <tr>\n      <th>2015-03-06</th>\n      <td>13.17</td>\n      <td>14.48</td>\n      <td>14.28</td>\n      <td>13.13</td>\n      <td>179831.72</td>\n      <td>1.12</td>\n      <td>8.51</td>\n      <td>6.16</td>\n    </tr>\n    <tr>\n      <th>2015-03-05</th>\n      <td>12.88</td>\n      <td>13.45</td>\n      <td>13.16</td>\n      <td>12.87</td>\n      <td>93180.39</td>\n      <td>0.26</td>\n      <td>2.02</td>\n      <td>3.19</td>\n    </tr>\n    <tr>\n      <th>2015-03-04</th>\n      <td>12.80</td>\n      <td>12.92</td>\n      <td>12.90</td>\n      <td>12.61</td>\n      <td>67075.44</td>\n      <td>0.20</td>\n      <td>1.57</td>\n      <td>2.30</td>\n    </tr>\n    <tr>\n      <th>2015-03-03</th>\n      <td>12.52</td>\n      <td>13.06</td>\n      <td>12.70</td>\n      <td>12.52</td>\n      <td>139071.61</td>\n      <td>0.18</td>\n      <td>1.44</td>\n      <td>4.76</td>\n    </tr>\n    <tr>\n      <th>2015-03-02</th>\n      <td>12.25</td>\n      <td>12.67</td>\n      <td>12.52</td>\n      <td>12.20</td>\n      <td>96291.73</td>\n      <td>0.32</td>\n      <td>2.62</td>\n      <td>3.30</td>\n    </tr>\n  </tbody>\n</table>\n<p>643 rows × 8 columns</p>\n</div>"
     },
     "execution_count": 4,
     "metadata": {},
     "output_type": "execute_result"
    }
   ],
   "source": [
    "import pandas as pd\n",
    "# 读取文件\n",
    "data = pd.read_csv(\"./data/stock_day.csv\")\n",
    "\n",
    "# 删除一些列，让数据更简单些，再去做后面的操作\n",
    "data = data.drop([\"ma5\",\"ma10\",\"ma20\",\"v_ma5\",\"v_ma10\",\"v_ma20\"], axis=1)\n",
    "data"
   ]
  },
  {
   "cell_type": "code",
   "execution_count": 5,
   "outputs": [
    {
     "data": {
      "text/plain": "22.02"
     },
     "execution_count": 5,
     "metadata": {},
     "output_type": "execute_result"
    }
   ],
   "source": [
    "# 获取里面的一个值，需要先用列索引再用行索引就行定位\n",
    "data[\"low\"][\"2018-02-22\"]"
   ],
   "metadata": {
    "collapsed": false
   }
  },
  {
   "cell_type": "code",
   "execution_count": 7,
   "outputs": [
    {
     "data": {
      "text/plain": "2018-02-27    23.53\n2018-02-26    22.80\n2018-02-23    22.88\n2018-02-22    22.25\nName: open, dtype: float64"
     },
     "execution_count": 7,
     "metadata": {},
     "output_type": "execute_result"
    }
   ],
   "source": [
    "# 结合loc、iloc使用索引,类型切片操作\n",
    "data.loc['2018-02-27':'2018-02-22', 'open']"
   ],
   "metadata": {
    "collapsed": false
   }
  },
  {
   "cell_type": "code",
   "execution_count": 9,
   "outputs": [
    {
     "data": {
      "text/plain": "             open   high  close    low    volume\n2018-02-27  23.53  25.88  24.16  23.53  95578.03\n2018-02-26  22.80  23.78  23.53  22.80  60985.11\n2018-02-23  22.88  23.37  22.82  22.71  52914.01",
      "text/html": "<div>\n<style scoped>\n    .dataframe tbody tr th:only-of-type {\n        vertical-align: middle;\n    }\n\n    .dataframe tbody tr th {\n        vertical-align: top;\n    }\n\n    .dataframe thead th {\n        text-align: right;\n    }\n</style>\n<table border=\"1\" class=\"dataframe\">\n  <thead>\n    <tr style=\"text-align: right;\">\n      <th></th>\n      <th>open</th>\n      <th>high</th>\n      <th>close</th>\n      <th>low</th>\n      <th>volume</th>\n    </tr>\n  </thead>\n  <tbody>\n    <tr>\n      <th>2018-02-27</th>\n      <td>23.53</td>\n      <td>25.88</td>\n      <td>24.16</td>\n      <td>23.53</td>\n      <td>95578.03</td>\n    </tr>\n    <tr>\n      <th>2018-02-26</th>\n      <td>22.80</td>\n      <td>23.78</td>\n      <td>23.53</td>\n      <td>22.80</td>\n      <td>60985.11</td>\n    </tr>\n    <tr>\n      <th>2018-02-23</th>\n      <td>22.88</td>\n      <td>23.37</td>\n      <td>22.82</td>\n      <td>22.71</td>\n      <td>52914.01</td>\n    </tr>\n  </tbody>\n</table>\n</div>"
     },
     "execution_count": 9,
     "metadata": {},
     "output_type": "execute_result"
    }
   ],
   "source": [
    "# 使用iloc可以通过索引的下标去获取\n",
    "# 获取前3天数据,前5列的结果\n",
    "data.iloc[:3, :5]"
   ],
   "metadata": {
    "collapsed": false
   }
  },
  {
   "cell_type": "code",
   "execution_count": 11,
   "outputs": [
    {
     "data": {
      "text/plain": "             open   high  close    low     volume  price_change  p_change  \\\n2018-02-27  23.53  25.88      1  23.53   95578.03          0.63      2.68   \n2018-02-26  22.80  23.78      1  22.80   60985.11          0.69      3.02   \n2018-02-23  22.88  23.37      1  22.71   52914.01          0.54      2.42   \n2018-02-22  22.25  22.76      1  22.02   36105.01          0.36      1.64   \n2018-02-14  21.49  21.99      1  21.48   23331.04          0.44      2.05   \n...           ...    ...    ...    ...        ...           ...       ...   \n2015-03-06  13.17  14.48      1  13.13  179831.72          1.12      8.51   \n2015-03-05  12.88  13.45      1  12.87   93180.39          0.26      2.02   \n2015-03-04  12.80  12.92      1  12.61   67075.44          0.20      1.57   \n2015-03-03  12.52  13.06      1  12.52  139071.61          0.18      1.44   \n2015-03-02  12.25  12.67      1  12.20   96291.73          0.32      2.62   \n\n            turnover  \n2018-02-27      2.39  \n2018-02-26      1.53  \n2018-02-23      1.32  \n2018-02-22      0.90  \n2018-02-14      0.58  \n...              ...  \n2015-03-06      6.16  \n2015-03-05      3.19  \n2015-03-04      2.30  \n2015-03-03      4.76  \n2015-03-02      3.30  \n\n[643 rows x 8 columns]",
      "text/html": "<div>\n<style scoped>\n    .dataframe tbody tr th:only-of-type {\n        vertical-align: middle;\n    }\n\n    .dataframe tbody tr th {\n        vertical-align: top;\n    }\n\n    .dataframe thead th {\n        text-align: right;\n    }\n</style>\n<table border=\"1\" class=\"dataframe\">\n  <thead>\n    <tr style=\"text-align: right;\">\n      <th></th>\n      <th>open</th>\n      <th>high</th>\n      <th>close</th>\n      <th>low</th>\n      <th>volume</th>\n      <th>price_change</th>\n      <th>p_change</th>\n      <th>turnover</th>\n    </tr>\n  </thead>\n  <tbody>\n    <tr>\n      <th>2018-02-27</th>\n      <td>23.53</td>\n      <td>25.88</td>\n      <td>1</td>\n      <td>23.53</td>\n      <td>95578.03</td>\n      <td>0.63</td>\n      <td>2.68</td>\n      <td>2.39</td>\n    </tr>\n    <tr>\n      <th>2018-02-26</th>\n      <td>22.80</td>\n      <td>23.78</td>\n      <td>1</td>\n      <td>22.80</td>\n      <td>60985.11</td>\n      <td>0.69</td>\n      <td>3.02</td>\n      <td>1.53</td>\n    </tr>\n    <tr>\n      <th>2018-02-23</th>\n      <td>22.88</td>\n      <td>23.37</td>\n      <td>1</td>\n      <td>22.71</td>\n      <td>52914.01</td>\n      <td>0.54</td>\n      <td>2.42</td>\n      <td>1.32</td>\n    </tr>\n    <tr>\n      <th>2018-02-22</th>\n      <td>22.25</td>\n      <td>22.76</td>\n      <td>1</td>\n      <td>22.02</td>\n      <td>36105.01</td>\n      <td>0.36</td>\n      <td>1.64</td>\n      <td>0.90</td>\n    </tr>\n    <tr>\n      <th>2018-02-14</th>\n      <td>21.49</td>\n      <td>21.99</td>\n      <td>1</td>\n      <td>21.48</td>\n      <td>23331.04</td>\n      <td>0.44</td>\n      <td>2.05</td>\n      <td>0.58</td>\n    </tr>\n    <tr>\n      <th>...</th>\n      <td>...</td>\n      <td>...</td>\n      <td>...</td>\n      <td>...</td>\n      <td>...</td>\n      <td>...</td>\n      <td>...</td>\n      <td>...</td>\n    </tr>\n    <tr>\n      <th>2015-03-06</th>\n      <td>13.17</td>\n      <td>14.48</td>\n      <td>1</td>\n      <td>13.13</td>\n      <td>179831.72</td>\n      <td>1.12</td>\n      <td>8.51</td>\n      <td>6.16</td>\n    </tr>\n    <tr>\n      <th>2015-03-05</th>\n      <td>12.88</td>\n      <td>13.45</td>\n      <td>1</td>\n      <td>12.87</td>\n      <td>93180.39</td>\n      <td>0.26</td>\n      <td>2.02</td>\n      <td>3.19</td>\n    </tr>\n    <tr>\n      <th>2015-03-04</th>\n      <td>12.80</td>\n      <td>12.92</td>\n      <td>1</td>\n      <td>12.61</td>\n      <td>67075.44</td>\n      <td>0.20</td>\n      <td>1.57</td>\n      <td>2.30</td>\n    </tr>\n    <tr>\n      <th>2015-03-03</th>\n      <td>12.52</td>\n      <td>13.06</td>\n      <td>1</td>\n      <td>12.52</td>\n      <td>139071.61</td>\n      <td>0.18</td>\n      <td>1.44</td>\n      <td>4.76</td>\n    </tr>\n    <tr>\n      <th>2015-03-02</th>\n      <td>12.25</td>\n      <td>12.67</td>\n      <td>1</td>\n      <td>12.20</td>\n      <td>96291.73</td>\n      <td>0.32</td>\n      <td>2.62</td>\n      <td>3.30</td>\n    </tr>\n  </tbody>\n</table>\n<p>643 rows × 8 columns</p>\n</div>"
     },
     "execution_count": 11,
     "metadata": {},
     "output_type": "execute_result"
    }
   ],
   "source": [
    "# 对DataFrame当中的close列进行重新赋值为1\n",
    "# 直接修改原来的值\n",
    "data['close'] = 1\n",
    "data"
   ],
   "metadata": {
    "collapsed": false
   }
  },
  {
   "cell_type": "markdown",
   "source": [
    "参数：\n",
    "* by：指定排序参考的键\n",
    "* ascending:默认升序\n",
    "    * ascending=False:降序\n",
    "    * ascending=True:升序"
   ],
   "metadata": {
    "collapsed": false
   }
  },
  {
   "cell_type": "code",
   "execution_count": 13,
   "outputs": [
    {
     "data": {
      "text/plain": "             open   high  close    low     volume  price_change  p_change  \\\n2015-03-02  12.25  12.67      1  12.20   96291.73          0.32      2.62   \n2015-09-02  12.30  14.11      1  12.30   70201.74         -1.10     -8.17   \n2015-03-03  12.52  13.06      1  12.52  139071.61          0.18      1.44   \n\n            turnover  \n2015-03-02      3.30  \n2015-09-02      2.40  \n2015-03-03      4.76  ",
      "text/html": "<div>\n<style scoped>\n    .dataframe tbody tr th:only-of-type {\n        vertical-align: middle;\n    }\n\n    .dataframe tbody tr th {\n        vertical-align: top;\n    }\n\n    .dataframe thead th {\n        text-align: right;\n    }\n</style>\n<table border=\"1\" class=\"dataframe\">\n  <thead>\n    <tr style=\"text-align: right;\">\n      <th></th>\n      <th>open</th>\n      <th>high</th>\n      <th>close</th>\n      <th>low</th>\n      <th>volume</th>\n      <th>price_change</th>\n      <th>p_change</th>\n      <th>turnover</th>\n    </tr>\n  </thead>\n  <tbody>\n    <tr>\n      <th>2015-03-02</th>\n      <td>12.25</td>\n      <td>12.67</td>\n      <td>1</td>\n      <td>12.20</td>\n      <td>96291.73</td>\n      <td>0.32</td>\n      <td>2.62</td>\n      <td>3.30</td>\n    </tr>\n    <tr>\n      <th>2015-09-02</th>\n      <td>12.30</td>\n      <td>14.11</td>\n      <td>1</td>\n      <td>12.30</td>\n      <td>70201.74</td>\n      <td>-1.10</td>\n      <td>-8.17</td>\n      <td>2.40</td>\n    </tr>\n    <tr>\n      <th>2015-03-03</th>\n      <td>12.52</td>\n      <td>13.06</td>\n      <td>1</td>\n      <td>12.52</td>\n      <td>139071.61</td>\n      <td>0.18</td>\n      <td>1.44</td>\n      <td>4.76</td>\n    </tr>\n  </tbody>\n</table>\n</div>"
     },
     "execution_count": 13,
     "metadata": {},
     "output_type": "execute_result"
    }
   ],
   "source": [
    "# 按照开盘价大小进行排序 , 使用ascending指定按照大小排序\n",
    "data.sort_values(by=\"open\", ascending=True).head(3)"
   ],
   "metadata": {
    "collapsed": false
   }
  },
  {
   "cell_type": "markdown",
   "source": [
    "- 使用df.sort_index给索引进行排序"
   ],
   "metadata": {
    "collapsed": false
   }
  },
  {
   "cell_type": "markdown",
   "source": [
    "- 这个股票的日期索引原来是从大到小，现在重新排序，从小到大"
   ],
   "metadata": {
    "collapsed": false
   }
  },
  {
   "cell_type": "code",
   "execution_count": 14,
   "outputs": [
    {
     "data": {
      "text/plain": "             open   high  close    low     volume  price_change  p_change  \\\n2015-03-02  12.25  12.67      1  12.20   96291.73          0.32      2.62   \n2015-03-03  12.52  13.06      1  12.52  139071.61          0.18      1.44   \n2015-03-04  12.80  12.92      1  12.61   67075.44          0.20      1.57   \n2015-03-05  12.88  13.45      1  12.87   93180.39          0.26      2.02   \n2015-03-06  13.17  14.48      1  13.13  179831.72          1.12      8.51   \n...           ...    ...    ...    ...        ...           ...       ...   \n2018-02-14  21.49  21.99      1  21.48   23331.04          0.44      2.05   \n2018-02-22  22.25  22.76      1  22.02   36105.01          0.36      1.64   \n2018-02-23  22.88  23.37      1  22.71   52914.01          0.54      2.42   \n2018-02-26  22.80  23.78      1  22.80   60985.11          0.69      3.02   \n2018-02-27  23.53  25.88      1  23.53   95578.03          0.63      2.68   \n\n            turnover  \n2015-03-02      3.30  \n2015-03-03      4.76  \n2015-03-04      2.30  \n2015-03-05      3.19  \n2015-03-06      6.16  \n...              ...  \n2018-02-14      0.58  \n2018-02-22      0.90  \n2018-02-23      1.32  \n2018-02-26      1.53  \n2018-02-27      2.39  \n\n[643 rows x 8 columns]",
      "text/html": "<div>\n<style scoped>\n    .dataframe tbody tr th:only-of-type {\n        vertical-align: middle;\n    }\n\n    .dataframe tbody tr th {\n        vertical-align: top;\n    }\n\n    .dataframe thead th {\n        text-align: right;\n    }\n</style>\n<table border=\"1\" class=\"dataframe\">\n  <thead>\n    <tr style=\"text-align: right;\">\n      <th></th>\n      <th>open</th>\n      <th>high</th>\n      <th>close</th>\n      <th>low</th>\n      <th>volume</th>\n      <th>price_change</th>\n      <th>p_change</th>\n      <th>turnover</th>\n    </tr>\n  </thead>\n  <tbody>\n    <tr>\n      <th>2015-03-02</th>\n      <td>12.25</td>\n      <td>12.67</td>\n      <td>1</td>\n      <td>12.20</td>\n      <td>96291.73</td>\n      <td>0.32</td>\n      <td>2.62</td>\n      <td>3.30</td>\n    </tr>\n    <tr>\n      <th>2015-03-03</th>\n      <td>12.52</td>\n      <td>13.06</td>\n      <td>1</td>\n      <td>12.52</td>\n      <td>139071.61</td>\n      <td>0.18</td>\n      <td>1.44</td>\n      <td>4.76</td>\n    </tr>\n    <tr>\n      <th>2015-03-04</th>\n      <td>12.80</td>\n      <td>12.92</td>\n      <td>1</td>\n      <td>12.61</td>\n      <td>67075.44</td>\n      <td>0.20</td>\n      <td>1.57</td>\n      <td>2.30</td>\n    </tr>\n    <tr>\n      <th>2015-03-05</th>\n      <td>12.88</td>\n      <td>13.45</td>\n      <td>1</td>\n      <td>12.87</td>\n      <td>93180.39</td>\n      <td>0.26</td>\n      <td>2.02</td>\n      <td>3.19</td>\n    </tr>\n    <tr>\n      <th>2015-03-06</th>\n      <td>13.17</td>\n      <td>14.48</td>\n      <td>1</td>\n      <td>13.13</td>\n      <td>179831.72</td>\n      <td>1.12</td>\n      <td>8.51</td>\n      <td>6.16</td>\n    </tr>\n    <tr>\n      <th>...</th>\n      <td>...</td>\n      <td>...</td>\n      <td>...</td>\n      <td>...</td>\n      <td>...</td>\n      <td>...</td>\n      <td>...</td>\n      <td>...</td>\n    </tr>\n    <tr>\n      <th>2018-02-14</th>\n      <td>21.49</td>\n      <td>21.99</td>\n      <td>1</td>\n      <td>21.48</td>\n      <td>23331.04</td>\n      <td>0.44</td>\n      <td>2.05</td>\n      <td>0.58</td>\n    </tr>\n    <tr>\n      <th>2018-02-22</th>\n      <td>22.25</td>\n      <td>22.76</td>\n      <td>1</td>\n      <td>22.02</td>\n      <td>36105.01</td>\n      <td>0.36</td>\n      <td>1.64</td>\n      <td>0.90</td>\n    </tr>\n    <tr>\n      <th>2018-02-23</th>\n      <td>22.88</td>\n      <td>23.37</td>\n      <td>1</td>\n      <td>22.71</td>\n      <td>52914.01</td>\n      <td>0.54</td>\n      <td>2.42</td>\n      <td>1.32</td>\n    </tr>\n    <tr>\n      <th>2018-02-26</th>\n      <td>22.80</td>\n      <td>23.78</td>\n      <td>1</td>\n      <td>22.80</td>\n      <td>60985.11</td>\n      <td>0.69</td>\n      <td>3.02</td>\n      <td>1.53</td>\n    </tr>\n    <tr>\n      <th>2018-02-27</th>\n      <td>23.53</td>\n      <td>25.88</td>\n      <td>1</td>\n      <td>23.53</td>\n      <td>95578.03</td>\n      <td>0.63</td>\n      <td>2.68</td>\n      <td>2.39</td>\n    </tr>\n  </tbody>\n</table>\n<p>643 rows × 8 columns</p>\n</div>"
     },
     "execution_count": 14,
     "metadata": {},
     "output_type": "execute_result"
    }
   ],
   "source": [
    "# 对索引进行排序\n",
    "data.sort_index()"
   ],
   "metadata": {
    "collapsed": false
   }
  },
  {
   "cell_type": "code",
   "execution_count": null,
   "outputs": [],
   "source": [],
   "metadata": {
    "collapsed": false
   }
  }
 ],
 "metadata": {
  "kernelspec": {
   "display_name": "Python 3",
   "language": "python",
   "name": "python3"
  },
  "language_info": {
   "codemirror_mode": {
    "name": "ipython",
    "version": 2
   },
   "file_extension": ".py",
   "mimetype": "text/x-python",
   "name": "python",
   "nbconvert_exporter": "python",
   "pygments_lexer": "ipython2",
   "version": "2.7.6"
  }
 },
 "nbformat": 4,
 "nbformat_minor": 0
}
