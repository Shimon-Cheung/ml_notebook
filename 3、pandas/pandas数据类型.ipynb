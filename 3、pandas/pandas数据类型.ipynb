{
 "cells": [
  {
   "cell_type": "code",
   "execution_count": 2,
   "outputs": [
    {
     "name": "stderr",
     "output_type": "stream",
     "text": [
      "C:\\Users\\shimon\\AppData\\Local\\Temp\\ipykernel_17308\\186338488.py:4: FutureWarning: The default dtype for empty Series will be 'object' instead of 'float64' in a future version. Specify a dtype explicitly to silence this warning.\n",
      "  pd.Series(data=None, index=None, dtype=None)\n"
     ]
    },
    {
     "data": {
      "text/plain": "Series([], dtype: float64)"
     },
     "execution_count": 2,
     "metadata": {},
     "output_type": "execute_result"
    }
   ],
   "source": [
    "# 导入pandas\n",
    "import pandas as pd\n",
    "import numpy as np\n",
    "pd.Series(data=None, index=None, dtype=None)"
   ],
   "metadata": {
    "collapsed": false
   }
  },
  {
   "cell_type": "code",
   "execution_count": 3,
   "outputs": [
    {
     "data": {
      "text/plain": "0    0\n1    1\n2    2\n3    3\n4    4\n5    5\n6    6\n7    7\n8    8\n9    9\ndtype: int32"
     },
     "execution_count": 3,
     "metadata": {},
     "output_type": "execute_result"
    }
   ],
   "source": [
    "pd.Series(np.arange(10))"
   ],
   "metadata": {
    "collapsed": false
   }
  },
  {
   "cell_type": "code",
   "execution_count": 4,
   "outputs": [
    {
     "data": {
      "text/plain": "1     6.7\n2     5.6\n3     3.0\n4    10.0\n5     2.0\ndtype: float64"
     },
     "execution_count": 4,
     "metadata": {},
     "output_type": "execute_result"
    }
   ],
   "source": [
    "# 制定索引\n",
    "pd.Series([6.7,5.6,3,10,2], index=[1,2,3,4,5])"
   ],
   "metadata": {
    "collapsed": false
   }
  },
  {
   "cell_type": "code",
   "execution_count": 5,
   "outputs": [
    {
     "data": {
      "text/plain": "red        100\nblue       200\ngreen      500\nyellow    1000\ndtype: int64"
     },
     "execution_count": 5,
     "metadata": {},
     "output_type": "execute_result"
    }
   ],
   "source": [
    "# 通过字典数据创建\n",
    "color_count = pd.Series({'red':100, 'blue':200, 'green': 500, 'yellow':1000})\n",
    "color_count"
   ],
   "metadata": {
    "collapsed": false
   }
  },
  {
   "cell_type": "markdown",
   "source": [
    "## Series的属性"
   ],
   "metadata": {
    "collapsed": false
   }
  },
  {
   "cell_type": "code",
   "execution_count": 6,
   "outputs": [
    {
     "data": {
      "text/plain": "Index(['red', 'blue', 'green', 'yellow'], dtype='object')"
     },
     "execution_count": 6,
     "metadata": {},
     "output_type": "execute_result"
    }
   ],
   "source": [
    "color_count.index"
   ],
   "metadata": {
    "collapsed": false
   }
  },
  {
   "cell_type": "code",
   "execution_count": 7,
   "outputs": [
    {
     "data": {
      "text/plain": "array([ 100,  200,  500, 1000], dtype=int64)"
     },
     "execution_count": 7,
     "metadata": {},
     "output_type": "execute_result"
    }
   ],
   "source": [
    "color_count.values"
   ],
   "metadata": {
    "collapsed": false
   }
  },
  {
   "cell_type": "code",
   "execution_count": 8,
   "outputs": [
    {
     "data": {
      "text/plain": "          0         1         2\n0 -1.276531 -2.307603  0.867051\n1 -2.029174  0.451036  1.811637",
      "text/html": "<div>\n<style scoped>\n    .dataframe tbody tr th:only-of-type {\n        vertical-align: middle;\n    }\n\n    .dataframe tbody tr th {\n        vertical-align: top;\n    }\n\n    .dataframe thead th {\n        text-align: right;\n    }\n</style>\n<table border=\"1\" class=\"dataframe\">\n  <thead>\n    <tr style=\"text-align: right;\">\n      <th></th>\n      <th>0</th>\n      <th>1</th>\n      <th>2</th>\n    </tr>\n  </thead>\n  <tbody>\n    <tr>\n      <th>0</th>\n      <td>-1.276531</td>\n      <td>-2.307603</td>\n      <td>0.867051</td>\n    </tr>\n    <tr>\n      <th>1</th>\n      <td>-2.029174</td>\n      <td>0.451036</td>\n      <td>1.811637</td>\n    </tr>\n  </tbody>\n</table>\n</div>"
     },
     "execution_count": 8,
     "metadata": {},
     "output_type": "execute_result"
    }
   ],
   "source": [
    "pd.DataFrame(np.random.randn(2,3))"
   ],
   "metadata": {
    "collapsed": false
   }
  },
  {
   "cell_type": "markdown",
   "source": [
    "## DataFrame"
   ],
   "metadata": {
    "collapsed": false
   }
  },
  {
   "cell_type": "markdown",
   "source": [
    "### DataFramede的创建"
   ],
   "metadata": {
    "collapsed": false
   }
  },
  {
   "cell_type": "code",
   "execution_count": 9,
   "outputs": [
    {
     "data": {
      "text/plain": "          0         1         2\n0 -1.873115  0.224097  1.914995\n1  0.927267 -1.767462 -0.322049",
      "text/html": "<div>\n<style scoped>\n    .dataframe tbody tr th:only-of-type {\n        vertical-align: middle;\n    }\n\n    .dataframe tbody tr th {\n        vertical-align: top;\n    }\n\n    .dataframe thead th {\n        text-align: right;\n    }\n</style>\n<table border=\"1\" class=\"dataframe\">\n  <thead>\n    <tr style=\"text-align: right;\">\n      <th></th>\n      <th>0</th>\n      <th>1</th>\n      <th>2</th>\n    </tr>\n  </thead>\n  <tbody>\n    <tr>\n      <th>0</th>\n      <td>-1.873115</td>\n      <td>0.224097</td>\n      <td>1.914995</td>\n    </tr>\n    <tr>\n      <th>1</th>\n      <td>0.927267</td>\n      <td>-1.767462</td>\n      <td>-0.322049</td>\n    </tr>\n  </tbody>\n</table>\n</div>"
     },
     "execution_count": 9,
     "metadata": {},
     "output_type": "execute_result"
    }
   ],
   "source": [
    "pd.DataFrame(np.random.randn(2,3))"
   ],
   "metadata": {
    "collapsed": false
   }
  },
  {
   "cell_type": "code",
   "execution_count": 13,
   "outputs": [
    {
     "data": {
      "text/plain": "array([[66, 49, 79, 55, 64],\n       [41, 48, 46, 90, 42],\n       [50, 42, 78, 87, 77],\n       [85, 82, 85, 70, 58],\n       [94, 61, 74, 94, 78],\n       [75, 75, 50, 95, 41],\n       [41, 50, 88, 76, 82],\n       [44, 65, 85, 52, 92],\n       [88, 56, 97, 59, 80],\n       [86, 89, 96, 82, 43]])"
     },
     "execution_count": 13,
     "metadata": {},
     "output_type": "execute_result"
    }
   ],
   "source": [
    "# 生成10个同学，每个同学5门课程，都早40-100分之间\n",
    "score = np.random.randint(low=40,high=100,size=(10,5))\n",
    "score"
   ],
   "metadata": {
    "collapsed": false
   }
  },
  {
   "cell_type": "code",
   "execution_count": 15,
   "outputs": [
    {
     "data": {
      "text/plain": "['同学：0',\n '同学：1',\n '同学：2',\n '同学：3',\n '同学：4',\n '同学：5',\n '同学：6',\n '同学：7',\n '同学：8',\n '同学：9']"
     },
     "execution_count": 15,
     "metadata": {},
     "output_type": "execute_result"
    }
   ],
   "source": [
    "# 生成10个学生的名字\n",
    "name_list = [f\"同学：{i}\" for i in range(10)]\n",
    "name_list"
   ],
   "metadata": {
    "collapsed": false
   }
  },
  {
   "cell_type": "code",
   "execution_count": 16,
   "outputs": [
    {
     "data": {
      "text/plain": "      语文  数学  英语  政治  历史\n同学：0  66  49  79  55  64\n同学：1  41  48  46  90  42\n同学：2  50  42  78  87  77\n同学：3  85  82  85  70  58\n同学：4  94  61  74  94  78\n同学：5  75  75  50  95  41\n同学：6  41  50  88  76  82\n同学：7  44  65  85  52  92\n同学：8  88  56  97  59  80\n同学：9  86  89  96  82  43",
      "text/html": "<div>\n<style scoped>\n    .dataframe tbody tr th:only-of-type {\n        vertical-align: middle;\n    }\n\n    .dataframe tbody tr th {\n        vertical-align: top;\n    }\n\n    .dataframe thead th {\n        text-align: right;\n    }\n</style>\n<table border=\"1\" class=\"dataframe\">\n  <thead>\n    <tr style=\"text-align: right;\">\n      <th></th>\n      <th>语文</th>\n      <th>数学</th>\n      <th>英语</th>\n      <th>政治</th>\n      <th>历史</th>\n    </tr>\n  </thead>\n  <tbody>\n    <tr>\n      <th>同学：0</th>\n      <td>66</td>\n      <td>49</td>\n      <td>79</td>\n      <td>55</td>\n      <td>64</td>\n    </tr>\n    <tr>\n      <th>同学：1</th>\n      <td>41</td>\n      <td>48</td>\n      <td>46</td>\n      <td>90</td>\n      <td>42</td>\n    </tr>\n    <tr>\n      <th>同学：2</th>\n      <td>50</td>\n      <td>42</td>\n      <td>78</td>\n      <td>87</td>\n      <td>77</td>\n    </tr>\n    <tr>\n      <th>同学：3</th>\n      <td>85</td>\n      <td>82</td>\n      <td>85</td>\n      <td>70</td>\n      <td>58</td>\n    </tr>\n    <tr>\n      <th>同学：4</th>\n      <td>94</td>\n      <td>61</td>\n      <td>74</td>\n      <td>94</td>\n      <td>78</td>\n    </tr>\n    <tr>\n      <th>同学：5</th>\n      <td>75</td>\n      <td>75</td>\n      <td>50</td>\n      <td>95</td>\n      <td>41</td>\n    </tr>\n    <tr>\n      <th>同学：6</th>\n      <td>41</td>\n      <td>50</td>\n      <td>88</td>\n      <td>76</td>\n      <td>82</td>\n    </tr>\n    <tr>\n      <th>同学：7</th>\n      <td>44</td>\n      <td>65</td>\n      <td>85</td>\n      <td>52</td>\n      <td>92</td>\n    </tr>\n    <tr>\n      <th>同学：8</th>\n      <td>88</td>\n      <td>56</td>\n      <td>97</td>\n      <td>59</td>\n      <td>80</td>\n    </tr>\n    <tr>\n      <th>同学：9</th>\n      <td>86</td>\n      <td>89</td>\n      <td>96</td>\n      <td>82</td>\n      <td>43</td>\n    </tr>\n  </tbody>\n</table>\n</div>"
     },
     "execution_count": 16,
     "metadata": {},
     "output_type": "execute_result"
    }
   ],
   "source": [
    "score_pd = pd.DataFrame(data=score,index=name_list,columns=[\"语文\",\"数学\",\"英语\",\"政治\",\"历史\"])\n",
    "score_pd"
   ],
   "metadata": {
    "collapsed": false
   }
  },
  {
   "cell_type": "markdown",
   "source": [
    "### 获取前面三行，默认为5"
   ],
   "metadata": {
    "collapsed": false
   }
  },
  {
   "cell_type": "code",
   "execution_count": 18,
   "outputs": [
    {
     "data": {
      "text/plain": "      语文  数学  英语  政治  历史\n同学：0  66  49  79  55  64\n同学：1  41  48  46  90  42\n同学：2  50  42  78  87  77",
      "text/html": "<div>\n<style scoped>\n    .dataframe tbody tr th:only-of-type {\n        vertical-align: middle;\n    }\n\n    .dataframe tbody tr th {\n        vertical-align: top;\n    }\n\n    .dataframe thead th {\n        text-align: right;\n    }\n</style>\n<table border=\"1\" class=\"dataframe\">\n  <thead>\n    <tr style=\"text-align: right;\">\n      <th></th>\n      <th>语文</th>\n      <th>数学</th>\n      <th>英语</th>\n      <th>政治</th>\n      <th>历史</th>\n    </tr>\n  </thead>\n  <tbody>\n    <tr>\n      <th>同学：0</th>\n      <td>66</td>\n      <td>49</td>\n      <td>79</td>\n      <td>55</td>\n      <td>64</td>\n    </tr>\n    <tr>\n      <th>同学：1</th>\n      <td>41</td>\n      <td>48</td>\n      <td>46</td>\n      <td>90</td>\n      <td>42</td>\n    </tr>\n    <tr>\n      <th>同学：2</th>\n      <td>50</td>\n      <td>42</td>\n      <td>78</td>\n      <td>87</td>\n      <td>77</td>\n    </tr>\n  </tbody>\n</table>\n</div>"
     },
     "execution_count": 18,
     "metadata": {},
     "output_type": "execute_result"
    }
   ],
   "source": [
    "score_pd.head(3)"
   ],
   "metadata": {
    "collapsed": false
   }
  },
  {
   "cell_type": "markdown",
   "source": [
    "### 获取最后三行,默认为5"
   ],
   "metadata": {
    "collapsed": false
   }
  },
  {
   "cell_type": "code",
   "execution_count": 19,
   "outputs": [
    {
     "data": {
      "text/plain": "      语文  数学  英语  政治  历史\n同学：7  44  65  85  52  92\n同学：8  88  56  97  59  80\n同学：9  86  89  96  82  43",
      "text/html": "<div>\n<style scoped>\n    .dataframe tbody tr th:only-of-type {\n        vertical-align: middle;\n    }\n\n    .dataframe tbody tr th {\n        vertical-align: top;\n    }\n\n    .dataframe thead th {\n        text-align: right;\n    }\n</style>\n<table border=\"1\" class=\"dataframe\">\n  <thead>\n    <tr style=\"text-align: right;\">\n      <th></th>\n      <th>语文</th>\n      <th>数学</th>\n      <th>英语</th>\n      <th>政治</th>\n      <th>历史</th>\n    </tr>\n  </thead>\n  <tbody>\n    <tr>\n      <th>同学：7</th>\n      <td>44</td>\n      <td>65</td>\n      <td>85</td>\n      <td>52</td>\n      <td>92</td>\n    </tr>\n    <tr>\n      <th>同学：8</th>\n      <td>88</td>\n      <td>56</td>\n      <td>97</td>\n      <td>59</td>\n      <td>80</td>\n    </tr>\n    <tr>\n      <th>同学：9</th>\n      <td>86</td>\n      <td>89</td>\n      <td>96</td>\n      <td>82</td>\n      <td>43</td>\n    </tr>\n  </tbody>\n</table>\n</div>"
     },
     "execution_count": 19,
     "metadata": {},
     "output_type": "execute_result"
    }
   ],
   "source": [
    "score_pd.tail(3)"
   ],
   "metadata": {
    "collapsed": false
   }
  },
  {
   "cell_type": "code",
   "execution_count": null,
   "outputs": [],
   "source": [],
   "metadata": {
    "collapsed": false
   }
  }
 ],
 "metadata": {
  "kernelspec": {
   "display_name": "Python 3",
   "language": "python",
   "name": "python3"
  },
  "language_info": {
   "codemirror_mode": {
    "name": "ipython",
    "version": 2
   },
   "file_extension": ".py",
   "mimetype": "text/x-python",
   "name": "python",
   "nbconvert_exporter": "python",
   "pygments_lexer": "ipython2",
   "version": "2.7.6"
  }
 },
 "nbformat": 4,
 "nbformat_minor": 0
}
