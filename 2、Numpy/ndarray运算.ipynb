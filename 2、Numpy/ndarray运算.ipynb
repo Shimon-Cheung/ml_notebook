{
 "cells": [
  {
   "cell_type": "markdown",
   "source": [
    "## 逻辑运算"
   ],
   "metadata": {
    "collapsed": false
   }
  },
  {
   "cell_type": "code",
   "execution_count": 1,
   "outputs": [
    {
     "data": {
      "text/plain": "array([[69, 60, 83, 52, 56],\n       [66, 74, 70, 75, 76],\n       [61, 77, 80, 68, 74],\n       [56, 89, 57, 71, 49],\n       [69, 49, 87, 58, 67],\n       [84, 92, 51, 59, 98],\n       [92, 47, 56, 44, 99],\n       [86, 91, 83, 84, 68],\n       [46, 45, 49, 50, 57],\n       [81, 40, 95, 93, 75]])"
     },
     "execution_count": 1,
     "metadata": {},
     "output_type": "execute_result"
    }
   ],
   "source": [
    "import numpy as np\n",
    "# 生成10名同学，5门功课的数据\n",
    "score = np.random.randint(40, 100, (10, 5)) # 生成一个10x5的二维数组里面额值的区间在40-100之间\n",
    "score"
   ],
   "metadata": {
    "collapsed": false
   }
  },
  {
   "cell_type": "code",
   "execution_count": 5,
   "outputs": [
    {
     "data": {
      "text/plain": "array([[92, 47, 56, 44, 99],\n       [86, 91, 83, 84, 68],\n       [46, 45, 49, 50, 57],\n       [81, 40, 95, 93, 75]])"
     },
     "execution_count": 5,
     "metadata": {},
     "output_type": "execute_result"
    }
   ],
   "source": [
    "# 取出最后4名同学的成绩，用于逻辑判断\n",
    "test_score = score[6:, 0:5]\n",
    "test_score"
   ],
   "metadata": {
    "collapsed": false
   }
  },
  {
   "cell_type": "code",
   "execution_count": 6,
   "outputs": [
    {
     "data": {
      "text/plain": "array([[ True, False, False, False,  True],\n       [ True,  True,  True,  True,  True],\n       [False, False, False, False, False],\n       [ True, False,  True,  True,  True]])"
     },
     "execution_count": 6,
     "metadata": {},
     "output_type": "execute_result"
    }
   ],
   "source": [
    "# 逻辑判断, 如果成绩大于60就标记为True 否则为False\n",
    "test_score > 60"
   ],
   "metadata": {
    "collapsed": false
   }
  },
  {
   "cell_type": "code",
   "execution_count": 7,
   "outputs": [
    {
     "data": {
      "text/plain": "array([[ 1, 47, 56, 44,  1],\n       [ 1,  1,  1,  1,  1],\n       [46, 45, 49, 50, 57],\n       [ 1, 40,  1,  1,  1]])"
     },
     "execution_count": 7,
     "metadata": {},
     "output_type": "execute_result"
    }
   ],
   "source": [
    "test_score[test_score > 60] = 1\n",
    "test_score"
   ],
   "metadata": {
    "collapsed": false
   }
  },
  {
   "cell_type": "markdown",
   "source": [
    "通用判断函数"
   ],
   "metadata": {
    "collapsed": false
   }
  },
  {
   "cell_type": "code",
   "execution_count": 9,
   "outputs": [
    {
     "data": {
      "text/plain": "False"
     },
     "execution_count": 9,
     "metadata": {},
     "output_type": "execute_result"
    }
   ],
   "source": [
    "# 判断前两名同学的成绩[0:2, :]是否全及格\n",
    "np.all(score[0:2, :] > 60)"
   ],
   "metadata": {
    "collapsed": false
   }
  },
  {
   "cell_type": "markdown",
   "source": [
    "np.any()"
   ],
   "metadata": {
    "collapsed": false
   }
  },
  {
   "cell_type": "code",
   "execution_count": 10,
   "outputs": [
    {
     "data": {
      "text/plain": "True"
     },
     "execution_count": 10,
     "metadata": {},
     "output_type": "execute_result"
    }
   ],
   "source": [
    "# 判断前两名同学的成绩[0:2, :]是否有大于90分的\n",
    "np.any(score[0:2, :] > 80)"
   ],
   "metadata": {
    "collapsed": false
   }
  },
  {
   "cell_type": "markdown",
   "source": [
    "np.where(三元运算符)"
   ],
   "metadata": {
    "collapsed": false
   }
  },
  {
   "cell_type": "code",
   "execution_count": 11,
   "outputs": [
    {
     "data": {
      "text/plain": "array([[1, 0, 1, 0],\n       [1, 1, 1, 1],\n       [1, 1, 1, 1],\n       [0, 1, 0, 1]])"
     },
     "execution_count": 11,
     "metadata": {},
     "output_type": "execute_result"
    }
   ],
   "source": [
    "# 判断前四名学生,前四门课程中，成绩中大于60的置为1，否则为0\n",
    "temp = score[:4, :4]\n",
    "np.where(temp > 60, 1, 0)"
   ],
   "metadata": {
    "collapsed": false
   }
  }
 ],
 "metadata": {
  "kernelspec": {
   "display_name": "Python 3",
   "language": "python",
   "name": "python3"
  },
  "language_info": {
   "codemirror_mode": {
    "name": "ipython",
    "version": 2
   },
   "file_extension": ".py",
   "mimetype": "text/x-python",
   "name": "python",
   "nbconvert_exporter": "python",
   "pygments_lexer": "ipython2",
   "version": "2.7.6"
  }
 },
 "nbformat": 4,
 "nbformat_minor": 0
}
